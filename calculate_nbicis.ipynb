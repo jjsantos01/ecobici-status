{
 "cells": [
  {
   "cell_type": "code",
   "execution_count": 10,
   "metadata": {},
   "outputs": [],
   "source": [
    "import pandas as pd\n",
    "# https://ecobici.cdmx.gob.mx/datos-abiertos/\n",
    "files = [\"2024-08\", \"2024-09\", \"2024-10\", \"2024-11\", \"2024-12\", \"2025-01\"]\n",
    "list_df = []\n",
    "for f in files:\n",
    "    list_df.append(pd.read_csv(f'/mnt/c/Users/jjsan/Downloads/{f}.csv', usecols=[\"Bici\"]))\n",
    "bicis = pd.concat(list_df, ignore_index=True)"
   ]
  },
  {
   "cell_type": "code",
   "execution_count": 12,
   "metadata": {},
   "outputs": [
    {
     "name": "stdout",
     "output_type": "stream",
     "text": [
      "8261\n"
     ]
    }
   ],
   "source": [
    "print(bicis[\"Bici\"].nunique())"
   ]
  }
 ],
 "metadata": {
  "kernelspec": {
   "display_name": "lewagon",
   "language": "python",
   "name": "python3"
  },
  "language_info": {
   "codemirror_mode": {
    "name": "ipython",
    "version": 3
   },
   "file_extension": ".py",
   "mimetype": "text/x-python",
   "name": "python",
   "nbconvert_exporter": "python",
   "pygments_lexer": "ipython3",
   "version": "3.10.6"
  }
 },
 "nbformat": 4,
 "nbformat_minor": 2
}
